{
  "nbformat": 4,
  "nbformat_minor": 0,
  "metadata": {
    "colab": {
      "name": "Challenge W3.ipynb",
      "provenance": [],
      "collapsed_sections": [],
      "authorship_tag": "ABX9TyOKANhn8zA15B1Pu4Ea7pS+",
      "include_colab_link": true
    },
    "kernelspec": {
      "name": "python3",
      "display_name": "Python 3"
    }
  },
  "cells": [
    {
      "cell_type": "markdown",
      "metadata": {
        "id": "view-in-github",
        "colab_type": "text"
      },
      "source": [
        "<a href=\"https://colab.research.google.com/github/Jsuarez1093/Mision-TIC-2022/blob/main/Challenge_W3.ipynb\" target=\"_parent\"><img src=\"https://colab.research.google.com/assets/colab-badge.svg\" alt=\"Open In Colab\"/></a>"
      ]
    },
    {
      "cell_type": "code",
      "metadata": {
        "id": "5iJDjfQEyiHv"
      },
      "source": [
        "import math\n",
        "items_list = []\n",
        "q_list = []\n",
        "p_list = []\n",
        "flag = True\n",
        "# adding items\n",
        "def add_item(item_name, q, p):\n",
        "    items_list.append(item_name)\n",
        "    q_list.append(int(q))\n",
        "    p_list.append(int(p))\n",
        "\n",
        "# printing ticket\n",
        "def print_ticket(items_list, q_list, p_list, id_customer):\n",
        "    \n",
        "  # calculate total amount before discount\n",
        "  total_no_discount = 0\n",
        "  for i in range(len(p_list)):\n",
        "    total_no_discount = total_no_discount + p_list[i] * q_list[i]\n",
        "\n",
        "  \n",
        "  # calculate total amount after discount\n",
        "  total = 0\n",
        "  if total_no_discount > 700000:\n",
        "    total = total_no_discount * .80\n",
        "  elif total_no_discount > 300000:\n",
        "    total = total_no_discount * .85\n",
        "  elif total_no_discount > 150000:\n",
        "    total = total_no_discount * .90\n",
        "  else:\n",
        "    total = total_no_discount\n",
        "  total = math.ceil(total)\n",
        "  discount = total_no_discount - total\n",
        "\n",
        "\n",
        "  print('Centro Comercial Unaleño')\n",
        "  print('Compra más y Gasta Menos')\n",
        "  print('NIT: 899.999.063')\n",
        "  print('Cliente: ' + id_customer)\n",
        "  print('Art Cant Precio')\n",
        "  for i in range(len(items_list)):\n",
        "    print(items_list[i] + \" x\"+ str(q_list[i]) + \" $\" + str(p_list[i] * q_list[i]))\n",
        "  print('Total: $' + str(total) )\n",
        "  print('En esta compra tu descuento fue $' + str(discount))\n",
        "  print('Gracias por tu compra')\n",
        "# exit fucntion\n",
        "\n",
        "\n",
        "while flag == True:\n",
        "  string_call = input()\n",
        "  call_list = string_call.split('&')\n",
        "  if call_list[0] == '1':\n",
        "    item_name = call_list[1]\n",
        "    item_q = int(call_list[2])\n",
        "    item_p = int(call_list[3])\n",
        "    add_item(item_name, item_q, item_p)\n",
        "\n",
        "  if call_list[0] == '2':\n",
        "    id_customer = call_list[1]\n",
        "    print_ticket(items_list, q_list, p_list, id_customer)\n",
        "    items_list = []\n",
        "    q_list = []\n",
        "    p_list = []\n",
        "  if call_list[0] == '3':\n",
        "    flag = False\n"
      ],
      "execution_count": null,
      "outputs": []
    },
    {
      "cell_type": "code",
      "metadata": {
        "id": "kwKwfLI90Df4"
      },
      "source": [
        ""
      ],
      "execution_count": 83,
      "outputs": []
    },
    {
      "cell_type": "code",
      "metadata": {
        "id": "00A9_55I0zdY"
      },
      "source": [
        ""
      ],
      "execution_count": 83,
      "outputs": []
    },
    {
      "cell_type": "code",
      "metadata": {
        "id": "MLvaBdAh0-mx"
      },
      "source": [
        ""
      ],
      "execution_count": 83,
      "outputs": []
    },
    {
      "cell_type": "code",
      "metadata": {
        "id": "VbaY35Ej5odv"
      },
      "source": [
        ""
      ],
      "execution_count": 83,
      "outputs": []
    },
    {
      "cell_type": "code",
      "metadata": {
        "id": "V_Jg6Oiy7IBA"
      },
      "source": [
        ""
      ],
      "execution_count": 83,
      "outputs": []
    },
    {
      "cell_type": "code",
      "metadata": {
        "id": "kEkzyu5lKiE7"
      },
      "source": [
        ""
      ],
      "execution_count": 83,
      "outputs": []
    }
  ]
}